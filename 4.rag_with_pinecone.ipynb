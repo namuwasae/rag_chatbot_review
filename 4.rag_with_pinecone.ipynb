{
 "cells": [
  {
   "cell_type": "markdown",
   "id": "119fac27",
   "metadata": {},
   "source": [
    "필요한 것\n",
    "dotenv\n",
    "embedding\n",
    "\n",
    "index_name\n",
    "database\n",
    "\n",
    "llm\n",
    "prompt\n",
    "retriever\n",
    "\n",
    "ai message\n",
    "qa_chain으로 보강"
   ]
  },
  {
   "cell_type": "code",
   "execution_count": null,
   "id": "c0020119",
   "metadata": {},
   "outputs": [],
   "source": [
    "from dotenv import load_dotenv\n",
    "from langchain_openai import OpenAIEmbeddings\n",
    "from langchain_pinecone import PineconeVectorStore\n",
    "from langchain_openai import ChatOpenAI\n",
    "from langchain import hub\n",
    "# query -> 직장인 -> 거주자로 바꾸는 chain을 추가를 위한 라이브러리\n",
    "from langchain_core.output_parsers import StrOutputParser\n",
    "from langchain_core.prompts import ChatPromptTemplate\n",
    "\n",
    "\n",
    "load_dotenv()\n",
    "\n",
    "embeddings = OpenAIEmbeddings(model = 'text-embedding-3-large')\n",
    "index_name = 'tax-markdown-index'\n",
    "\n",
    "database = PineconeVectorStore( index=index_name, embedding=embeddings)\n",
    "prompt = hub.pull(\"rlm/rag-prompt\")\n",
    "llm = ChatOpenAI(model = 'gpt-4o-mini', temperature = 0)\n",
    "chain_type_kwargs = {\"prompt\":prompt}\n",
    "retriever = database.as_retriever(search_kwargs={\"k\":4})\n",
    "ai_message = llm.invoke(prompt)\n",
    "\n",
    "qa_chain = RetrievalQA.from_chain_type(\n",
    "    llm,\n",
    "    retriever = database.as_retriever(),\n",
    "    chain_type_kwargs = {\"prompt\":prompt}\n",
    ")\n",
    "\n",
    "ai_message = qa_chain({\"query\":query})\n",
    "\n",
    "\n",
    "# query -> 직장인 -> 거주자로 바꾸는 chain을 추가\n",
    "dictionary = [\"사람을 나타내는 표현 -> 거주자\"]\n",
    "\n",
    "prompt = ChatPromptTemplate.from_template(f\"\"\"\n",
    "                사용자의 질문을 보고, 우리의 사전을 참고해서 사용자의 질문을 변경해주세요.\n",
    "                만약 변경할 필요가 없다고 판단된다면, 사용자의 질문을 변경하지 않아도 됩니다.\n",
    "                사전 : {dictionary}\n",
    "                질문 : {{question}}\n",
    "                \"\"\")\n",
    "\n",
    "dictionary_chain = prompt | llm | StrOutputParser() \n",
    "\n",
    "tax_chain = {\"query\":dictionary_chain} | qa_chain"
   ]
  },
  {
   "cell_type": "code",
   "execution_count": 40,
   "id": "d9ad33e7",
   "metadata": {},
   "outputs": [],
   "source": [
    "prompt = f\"\"\"[Identity]\n",
    "- 당신은 최고의 한국 소득세 전문가입니다.\n",
    "- [context]를 참고해서 사용자의 질문에 답변해주세요.\n",
    "\n",
    "[context]\n",
    "{retrieved_docs}\n",
    "\n",
    "Question: {query}\n",
    "\n",
    "\"\"\""
   ]
  },
  {
   "cell_type": "code",
   "execution_count": 47,
   "id": "81b1588c",
   "metadata": {},
   "outputs": [],
   "source": [
    "## RetrievalQA Chain을 어떻게 사용하는지 알아보자.\n",
    "from langchain.chains import RetrievalQA\n",
    "\n",
    "qa_chain = RetrievalQA.from_chain_type(\n",
    "    llm,\n",
    "    retriever = database.as_retriever(),\n",
    "    chain_type_kwargs = {\"prompt\":prompt}\n",
    "    \n",
    ")"
   ]
  },
  {
   "cell_type": "code",
   "execution_count": 43,
   "id": "7725725b",
   "metadata": {},
   "outputs": [
    {
     "ename": "NameError",
     "evalue": "name 'qa_chain' is not defined",
     "output_type": "error",
     "traceback": [
      "\u001b[31m---------------------------------------------------------------------------\u001b[39m",
      "\u001b[31mNameError\u001b[39m                                 Traceback (most recent call last)",
      "\u001b[36mCell\u001b[39m\u001b[36m \u001b[39m\u001b[32mIn[43]\u001b[39m\u001b[32m, line 1\u001b[39m\n\u001b[32m----> \u001b[39m\u001b[32m1\u001b[39m ai_message = \u001b[43mqa_chain\u001b[49m({\u001b[33m\"\u001b[39m\u001b[33mquery\u001b[39m\u001b[33m\"\u001b[39m:query})\n",
      "\u001b[31mNameError\u001b[39m: name 'qa_chain' is not defined"
     ]
    }
   ],
   "source": [
    "ai_message = qa_chain({\"query\":query})"
   ]
  },
  {
   "cell_type": "code",
   "execution_count": 44,
   "id": "5db0fd68",
   "metadata": {},
   "outputs": [
    {
     "data": {
      "text/plain": [
       "AIMessage(content='연봉 5,000만원의 직장인이 납부해야 할 소득세를 계산해보겠습니다. 소득세는 종합소득 과세표준에 따라 세율이 적용됩니다.\\n\\n1. **연봉 5,000만원의 경우**:\\n   - 5,000만원은 **1,400만원 초과 ~ 5,000만원 이하** 구간에 해당합니다.\\n   - 이 구간의 세율은 다음과 같습니다:\\n     - 1,400만원 이하: 과세표준 × 6%\\n     - 1,400만원 초과 ~ 5,000만원 이하: 84만원 + (1,400만원 초과분 × 15%)\\n\\n2. **계산**:\\n   - 5,000만원에서 1,400만원을 빼면 3,600만원이 남습니다.\\n   - 따라서, 세액은 다음과 같이 계산됩니다:\\n     - 기본 세액: 84만원\\n     - 추가 세액: 3,600만원 × 15% = 540만원\\n\\n3. **총 소득세**:\\n   - 총 소득세 = 기본 세액 + 추가 세액\\n   - 총 소득세 = 84만원 + 540만원 = 624만원\\n\\n따라서, 연봉 5,000만원의 직장인은 약 **624만원**의 소득세를 납부해야 합니다.', additional_kwargs={'refusal': None}, response_metadata={'token_usage': {'completion_tokens': 301, 'prompt_tokens': 5150, 'total_tokens': 5451, 'completion_tokens_details': {'accepted_prediction_tokens': 0, 'audio_tokens': 0, 'reasoning_tokens': 0, 'rejected_prediction_tokens': 0}, 'prompt_tokens_details': {'audio_tokens': 0, 'cached_tokens': 0}}, 'model_name': 'gpt-4o-mini-2024-07-18', 'system_fingerprint': 'fp_560af6e559', 'id': 'chatcmpl-CJFaAR24yGWucNj6bchHO34lJsHvE', 'service_tier': 'default', 'finish_reason': 'stop', 'logprobs': None}, id='run--dbe8d58d-56fd-42ea-bac4-aee899498770-0', usage_metadata={'input_tokens': 5150, 'output_tokens': 301, 'total_tokens': 5451, 'input_token_details': {'audio': 0, 'cache_read': 0}, 'output_token_details': {'audio': 0, 'reasoning': 0}})"
      ]
     },
     "execution_count": 44,
     "metadata": {},
     "output_type": "execute_result"
    }
   ],
   "source": [
    "ai_message"
   ]
  },
  {
   "cell_type": "code",
   "execution_count": null,
   "id": "892bf97b",
   "metadata": {},
   "outputs": [],
   "source": []
  }
 ],
 "metadata": {
  "kernelspec": {
   "display_name": "langchain_rag-env",
   "language": "python",
   "name": "python3"
  },
  "language_info": {
   "codemirror_mode": {
    "name": "ipython",
    "version": 3
   },
   "file_extension": ".py",
   "mimetype": "text/x-python",
   "name": "python",
   "nbconvert_exporter": "python",
   "pygments_lexer": "ipython3",
   "version": "3.11.13"
  }
 },
 "nbformat": 4,
 "nbformat_minor": 5
}
